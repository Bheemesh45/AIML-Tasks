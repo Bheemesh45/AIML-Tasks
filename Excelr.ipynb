{
 "cells": [
  {
   "cell_type": "code",
   "execution_count": 16,
   "id": "1e44be48-e698-4e3f-9343-ea7ae799cec8",
   "metadata": {},
   "outputs": [],
   "source": [
    "orders = [['apple', 10], ['banana', 5], ['cherry', 10], ['dragon', 10], ['grape', 9], ['apple', 20]]"
   ]
  },
  {
   "cell_type": "code",
   "execution_count": 17,
   "id": "946c038b-14ea-4864-a1c3-7328f7b0dd07",
   "metadata": {},
   "outputs": [],
   "source": [
    "for each in orders:\n",
    "    if each[0] == \"cherry\":\n",
    "        each[1] = 10\n"
   ]
  },
  {
   "cell_type": "code",
   "execution_count": 18,
   "id": "5459b068-150e-4306-a8c8-064d4e05dbdb",
   "metadata": {},
   "outputs": [
    {
     "name": "stdout",
     "output_type": "stream",
     "text": [
      "[['apple', 10], ['banana', 5], ['cherry', 10], ['dragon', 10], ['grape', 9], ['apple', 20]]\n"
     ]
    }
   ],
   "source": [
    "print(orders)"
   ]
  },
  {
   "cell_type": "code",
   "execution_count": 19,
   "id": "2401f3d9-ab77-44a3-89aa-f54c0a5b6494",
   "metadata": {},
   "outputs": [
    {
     "name": "stdout",
     "output_type": "stream",
     "text": [
      "[10, 20]\n",
      "30\n"
     ]
    }
   ],
   "source": [
    "apple_orders = []\n",
    "\n",
    "for each in orders:\n",
    "    if each[0] == \"apple\":\n",
    "        apple_orders.append(each[1])\n",
    "\n",
    "print(apple_orders)\n",
    "print(sum(apple_orders))\n",
    "        "
   ]
  },
  {
   "cell_type": "code",
   "execution_count": 20,
   "id": "91a3ed64-d1ed-4a57-9ce0-63a8fb9f263e",
   "metadata": {},
   "outputs": [],
   "source": [
    "Tup1 = (3,5,9,10)"
   ]
  },
  {
   "cell_type": "code",
   "execution_count": 21,
   "id": "7c796a31-0928-48c5-8259-6fa754ff5e0d",
   "metadata": {},
   "outputs": [],
   "source": [
    "Tup2 = 10,20,30,'Hi'"
   ]
  },
  {
   "cell_type": "code",
   "execution_count": 22,
   "id": "aac665e2-9e03-4b0d-b83e-be46a5ee75ec",
   "metadata": {},
   "outputs": [],
   "source": [
    "Tup3 = tuple([1,2,5,7])"
   ]
  },
  {
   "cell_type": "code",
   "execution_count": 23,
   "id": "4f86f63d-ae04-4ba0-a96e-f7248c989dd7",
   "metadata": {},
   "outputs": [
    {
     "name": "stdout",
     "output_type": "stream",
     "text": [
      "(3, 5, 9, 10)\n",
      "(10, 20, 30, 'Hi')\n",
      "(1, 2, 5, 7)\n"
     ]
    }
   ],
   "source": [
    "print(Tup1)\n",
    "print(Tup2)\n",
    "print(Tup3)"
   ]
  },
  {
   "cell_type": "code",
   "execution_count": 24,
   "id": "81ad1155-9e2d-4bb2-928a-20198078059c",
   "metadata": {},
   "outputs": [
    {
     "ename": "SyntaxError",
     "evalue": "incomplete input (2258135588.py, line 1)",
     "output_type": "error",
     "traceback": [
      "\u001b[1;36m  Cell \u001b[1;32mIn[24], line 1\u001b[1;36m\u001b[0m\n\u001b[1;33m    Tup4 = ([3,4,5],(1,3,6),\"Hello\",105\u001b[0m\n\u001b[1;37m                                       ^\u001b[0m\n\u001b[1;31mSyntaxError\u001b[0m\u001b[1;31m:\u001b[0m incomplete input\n"
     ]
    }
   ],
   "source": [
    "Tup4 = ([3,4,5],(1,3,6),\"Hello\",105"
   ]
  },
  {
   "cell_type": "code",
   "execution_count": null,
   "id": "6e674cf6-7f0e-466b-b1b7-880ec3c80ea6",
   "metadata": {},
   "outputs": [],
   "source": [
    "print(Tup4)"
   ]
  },
  {
   "cell_type": "code",
   "execution_count": null,
   "id": "06d51fed-e8f0-4ad7-8d8c-903599de1ed9",
   "metadata": {},
   "outputs": [],
   "source": [
    "Tup4[0][2] = 10\n",
    "print(Tup4)"
   ]
  },
  {
   "cell_type": "code",
   "execution_count": null,
   "id": "a89b465f-9b06-4df0-83ed-e9e41c20e8ed",
   "metadata": {},
   "outputs": [],
   "source": [
    "Tup4[1][1] = 100\n",
    "print(Tup4)"
   ]
  },
  {
   "cell_type": "code",
   "execution_count": null,
   "id": "a2970cd3-d7a9-4322-ac00-c050b8d57025",
   "metadata": {},
   "outputs": [],
   "source": [
    "Tup4.index('Hello')"
   ]
  },
  {
   "cell_type": "code",
   "execution_count": null,
   "id": "f8ee8f3d-9706-4423-a560-10eaf27ab793",
   "metadata": {},
   "outputs": [],
   "source": [
    "Tup4.count(10)"
   ]
  },
  {
   "cell_type": "code",
   "execution_count": null,
   "id": "dd3f0e6d-3557-4e56-ad76-542effdb66c2",
   "metadata": {},
   "outputs": [],
   "source": [
    "Tup5 = (10,20,1,10,10,30,10,50,70,10,10)\n",
    "Tup5.count(10)"
   ]
  },
  {
   "cell_type": "code",
   "execution_count": 25,
   "id": "93409eb0-3c89-438d-bc16-47b7ea79a590",
   "metadata": {},
   "outputs": [
    {
     "name": "stdout",
     "output_type": "stream",
     "text": [
      "{'A': 10, 'B': 20, 'C': 30}\n"
     ]
    }
   ],
   "source": [
    "d2 = dict(A=10, B=20, C=30)\n",
    "print(d2)"
   ]
  },
  {
   "cell_type": "code",
   "execution_count": 26,
   "id": "37b49bce-d669-4a16-b6ae-171943c857cc",
   "metadata": {},
   "outputs": [
    {
     "name": "stdout",
     "output_type": "stream",
     "text": [
      "{'x': 1, 'y': 2, 'z': 3}\n"
     ]
    }
   ],
   "source": [
    "d3  = dict([(\"x\", 1), (\"y\", 2), (\"z\", 3)])\n",
    "print(d3)"
   ]
  },
  {
   "cell_type": "code",
   "execution_count": 27,
   "id": "c7fbe3e1-45cd-4dc8-b3e2-0a1545cd3e64",
   "metadata": {},
   "outputs": [
    {
     "name": "stdout",
     "output_type": "stream",
     "text": [
      "dict_keys(['x', 'y', 'z'])\n",
      "dict_values([1, 2, 3])\n",
      "dict_items([('x', 1), ('y', 2), ('z', 3)])\n"
     ]
    }
   ],
   "source": [
    "print(d3.keys())\n",
    "print(d3.values())\n",
    "print(d3.items())"
   ]
  },
  {
   "cell_type": "raw",
   "id": "f020e117-e65a-4ac1-a723-f032bec846ec",
   "metadata": {},
   "source": [
    "dir(dict)"
   ]
  },
  {
   "cell_type": "code",
   "execution_count": 28,
   "id": "e2936e7e-6710-4888-9671-f5002a128d88",
   "metadata": {},
   "outputs": [
    {
     "name": "stdout",
     "output_type": "stream",
     "text": [
      "{'Virat': 90, 'Rohit': 100, 'Rahul': 70, 'Hardik': 9, 'Gill': 20, 'Jadeja': 30, 'Siraj': 15}\n"
     ]
    }
   ],
   "source": [
    "scores = {'Virat': 90, 'Rohit': 100, 'Rahul': 70, 'Hardik': 9, 'Gill': 20, 'Jadeja': 30, 'Siraj': 15}\n",
    "         \n",
    "print(scores)"
   ]
  },
  {
   "cell_type": "code",
   "execution_count": 29,
   "id": "368dffd1-d8eb-42a8-a83b-da93554c7b7f",
   "metadata": {},
   "outputs": [
    {
     "name": "stdout",
     "output_type": "stream",
     "text": [
      "{'Virat': 90, 'Rohit': 100, 'Rahul': 70, 'Hardik': 9, 'Gill': 20, 'Jadeja': 30, 'Siraj': 15, 'Ashwin': 15}\n"
     ]
    }
   ],
   "source": [
    "scores[\"Ashwin\"] = 15\n",
    "print(scores)"
   ]
  },
  {
   "cell_type": "code",
   "execution_count": 30,
   "id": "a96d4065-eeb2-4bcf-b247-d575ac76bb43",
   "metadata": {},
   "outputs": [
    {
     "name": "stdout",
     "output_type": "stream",
     "text": [
      "{'Virat': 90, 'Rohit': 100, 'Rahul': 70, 'Hardik': 9, 'Gill': 20, 'Jadeja': 50, 'Siraj': 15, 'Ashwin': 15}\n"
     ]
    }
   ],
   "source": [
    "scores.update({\"Jadeja\":50})\n",
    "print(scores)"
   ]
  },
  {
   "cell_type": "code",
   "execution_count": 31,
   "id": "6fe9bd88-d1ee-4ff4-9e1a-0af882ff1a11",
   "metadata": {},
   "outputs": [
    {
     "name": "stdout",
     "output_type": "stream",
     "text": [
      "{'Virat': 90, 'Rohit': 200, 'Rahul': 70, 'Hardik': 25, 'Gill': 20, 'Jadeja': 50, 'Siraj': 15, 'Ashwin': 15, 'Rahane': 45}\n"
     ]
    }
   ],
   "source": [
    "scores.update({\"Hardik\":25, \"Rahane\":45, \"Rohit\":200})\n",
    "print(scores)"
   ]
  },
  {
   "cell_type": "code",
   "execution_count": 32,
   "id": "3df81cf0-22af-4125-bada-eb42576108c8",
   "metadata": {},
   "outputs": [
    {
     "name": "stdout",
     "output_type": "stream",
     "text": [
      "{'Virat': 90, 'Rohit': 264, 'Rahul': 70, 'Hardik': 65, 'Gill': 20, 'Jadeja': 50, 'Siraj': 15, 'Ashwin': 15, 'Rahane': 45}\n"
     ]
    }
   ],
   "source": [
    "scores.update({\"Hardik\":65, \"Rahane\":45, \"Rohit\":264})\n",
    "print(scores)"
   ]
  },
  {
   "cell_type": "code",
   "execution_count": 33,
   "id": "e82cddc2-b4d5-48a3-bab8-c67d8b8314cf",
   "metadata": {},
   "outputs": [
    {
     "name": "stdout",
     "output_type": "stream",
     "text": [
      "{'Virat': 90, 'Rohit': 264, 'Rahul': 70, 'Hardik': 65, 'Gill': 20, 'Jadeja': 50, 'Siraj': 15, 'Ashwin': 15, 'Rahane': 45}\n"
     ]
    }
   ],
   "source": [
    "scores.setdefault(\"Rahul\",100)\n",
    "print(scores)"
   ]
  },
  {
   "cell_type": "code",
   "execution_count": 34,
   "id": "7419309f-3af5-4698-ba5d-dd3db0aedb6f",
   "metadata": {},
   "outputs": [
    {
     "name": "stdout",
     "output_type": "stream",
     "text": [
      "{'Virat': 90, 'Rohit': 264, 'Rahul': 70, 'Hardik': 65, 'Gill': 20, 'Jadeja': 50, 'Siraj': 15, 'Ashwin': 15, 'Rahane': 45, 'Dhoni': 100}\n"
     ]
    }
   ],
   "source": [
    "scores.setdefault(\"Dhoni\",100)\n",
    "print(scores)"
   ]
  },
  {
   "cell_type": "raw",
   "id": "7ffcedd8-4917-492c-95d9-3696d024ea82",
   "metadata": {},
   "source": [
    "scores.popitem()\n",
    "print(scores)"
   ]
  },
  {
   "cell_type": "code",
   "execution_count": 35,
   "id": "96119f4f-9b80-4ec2-9cf7-5dfedbd4f720",
   "metadata": {},
   "outputs": [
    {
     "name": "stdout",
     "output_type": "stream",
     "text": [
      "{'Virat': 90, 'Rohit': 264, 'Rahul': 70, 'Hardik': 65, 'Jadeja': 50, 'Siraj': 15, 'Ashwin': 15, 'Rahane': 45, 'Dhoni': 100}\n"
     ]
    }
   ],
   "source": [
    "scores.pop(\"Gill\")\n",
    "print(scores)"
   ]
  },
  {
   "cell_type": "code",
   "execution_count": 38,
   "id": "85e45a3f-5c9d-48d3-8729-e0e10427857d",
   "metadata": {},
   "outputs": [
    {
     "data": {
      "text/plain": [
       "264"
      ]
     },
     "execution_count": 38,
     "metadata": {},
     "output_type": "execute_result"
    }
   ],
   "source": [
    "scores.get(\"Rohit\")\n"
   ]
  },
  {
   "cell_type": "code",
   "execution_count": null,
   "id": "b40a974b-3226-4c78-95ba-5da85040b2ab",
   "metadata": {},
   "outputs": [],
   "source": [
    "list1 = ['A':10, 'B':20, 'C':30, 'D':40]"
   ]
  }
 ],
 "metadata": {
  "kernelspec": {
   "display_name": "Python 3 (ipykernel)",
   "language": "python",
   "name": "python3"
  },
  "language_info": {
   "codemirror_mode": {
    "name": "ipython",
    "version": 3
   },
   "file_extension": ".py",
   "mimetype": "text/x-python",
   "name": "python",
   "nbconvert_exporter": "python",
   "pygments_lexer": "ipython3",
   "version": "3.12.7"
  }
 },
 "nbformat": 4,
 "nbformat_minor": 5
}
