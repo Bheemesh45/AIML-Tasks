{
 "cells": [
  {
   "cell_type": "code",
   "execution_count": 3,
   "id": "290190bc-7c52-41b2-b094-7db4162e96e7",
   "metadata": {},
   "outputs": [
    {
     "name": "stdout",
     "output_type": "stream",
     "text": [
      "even\n"
     ]
    }
   ],
   "source": [
    "num = 6\n",
    "if num%2 == 0:\n",
    "    print(\"even\")\n",
    "else:\n",
    "    print(\"odd\")"
   ]
  },
  {
   "cell_type": "code",
   "execution_count": 4,
   "id": "68da75a1-a07f-48f6-9c8d-a10524120878",
   "metadata": {},
   "outputs": [
    {
     "name": "stdout",
     "output_type": "stream",
     "text": [
      "even\n"
     ]
    }
   ],
   "source": [
    "print(\"even\") if num%2 == 0 else print(\"odd\")"
   ]
  },
  {
   "cell_type": "code",
   "execution_count": 5,
   "id": "3a7fddfd-93d6-4253-b78f-3fb763702989",
   "metadata": {},
   "outputs": [
    {
     "name": "stdout",
     "output_type": "stream",
     "text": [
      "Positive\n"
     ]
    }
   ],
   "source": [
    "x = 10\n",
    "result = \"Positive\" if x > 0 else \"Negative\"\n",
    "print(result)"
   ]
  },
  {
   "cell_type": "code",
   "execution_count": 6,
   "id": "08fe896e-38cf-4b32-a09b-8891bfa66d1f",
   "metadata": {},
   "outputs": [
    {
     "name": "stdout",
     "output_type": "stream",
     "text": [
      "Adult\n"
     ]
    }
   ],
   "source": [
    "age = 18\n",
    "category = \"Adult\" if age >= 18 else \"Minor\"\n",
    "print(category)"
   ]
  },
  {
   "cell_type": "code",
   "execution_count": 12,
   "id": "bab802a8-489d-4174-9ab3-6ddf26b7a45a",
   "metadata": {},
   "outputs": [
    {
     "name": "stdout",
     "output_type": "stream",
     "text": [
      "Positive\n"
     ]
    }
   ],
   "source": [
    "num = 7\n",
    "result = \"Positive\" if num > 0 else \"Negative\" if num < 0 else \"Zero\"\n",
    "print(result)"
   ]
  },
  {
   "cell_type": "code",
   "execution_count": 19,
   "id": "f661d92b-75aa-4e67-8260-ad8c9f466c13",
   "metadata": {},
   "outputs": [
    {
     "data": {
      "text/plain": [
       "[2, 18, 4, 20, 112, 178]"
      ]
     },
     "execution_count": 19,
     "metadata": {},
     "output_type": "execute_result"
    }
   ],
   "source": [
    "L=[1,9,2,10,56,89]\n",
    "[2*x for x in L]"
   ]
  },
  {
   "cell_type": "code",
   "execution_count": 20,
   "id": "a15f0c09-b0a9-4168-b36e-dceb4afc7981",
   "metadata": {},
   "outputs": [
    {
     "data": {
      "text/plain": [
       "[2, 10, 56]"
      ]
     },
     "execution_count": 20,
     "metadata": {},
     "output_type": "execute_result"
    }
   ],
   "source": [
    "# print even numbers\n",
    "L=[1,9,2,10,56,89]\n",
    "[x for x in L if x%2 == 0]"
   ]
  },
  {
   "cell_type": "code",
   "execution_count": 21,
   "id": "a91a26e7-0b09-4a3d-acb1-01ea9fc99edf",
   "metadata": {},
   "outputs": [
    {
     "data": {
      "text/plain": [
       "[1, 9, 89]"
      ]
     },
     "execution_count": 21,
     "metadata": {},
     "output_type": "execute_result"
    }
   ],
   "source": [
    "# print odd numbers\n",
    "L=[1,9,2,10,56,89]\n",
    "[x for x in L if x%2 != 0]"
   ]
  },
  {
   "cell_type": "code",
   "execution_count": 22,
   "id": "c4d6ebcd-1397-4ec6-993b-ab08e8aef3d4",
   "metadata": {},
   "outputs": [
    {
     "name": "stdout",
     "output_type": "stream",
     "text": [
      "{'Ram': [70, 71, 98, 100], 'John': [56, 98, 67, 65], 'Prem': [76, 98, 91, 87]}\n"
     ]
    }
   ],
   "source": [
    "# dictionary comprehension\n",
    "d1 = {'Ram':[70,71,98,100], 'John':[56,98,67,65], 'Prem':[76,98,91,87]}\n",
    "print(d1)"
   ]
  },
  {
   "cell_type": "code",
   "execution_count": 23,
   "id": "e317ea4e-17ba-4e9e-a200-53f66bf52069",
   "metadata": {},
   "outputs": [
    {
     "data": {
      "text/plain": [
       "{'Ram': 84.75, 'John': 71.5, 'Prem': 88.0}"
      ]
     },
     "execution_count": 23,
     "metadata": {},
     "output_type": "execute_result"
    }
   ],
   "source": [
    "{k:sum(v)/len(v) for k,v in d1.items()}"
   ]
  },
  {
   "cell_type": "code",
   "execution_count": 24,
   "id": "b525a543-5170-4c3d-8e4c-92b5b49dcb3c",
   "metadata": {},
   "outputs": [],
   "source": [
    "# user defined functions to compute average(reusable)\n",
    "def mean_value(given_list):\n",
    "    total = sum(given_list)\n",
    "    average_value = total/len(given_list)\n",
    "    return average_value"
   ]
  },
  {
   "cell_type": "code",
   "execution_count": 25,
   "id": "30a41012-8828-4be1-a6eb-50da546cdc22",
   "metadata": {},
   "outputs": [
    {
     "name": "stdout",
     "output_type": "stream",
     "text": [
      "5.5\n"
     ]
    }
   ],
   "source": [
    "# call the function\n",
    "L = [1,2,3,4,5,6,7,8,9,10]\n",
    "print(mean_value(L))"
   ]
  },
  {
   "cell_type": "code",
   "execution_count": 33,
   "id": "b4009690-d324-4093-afb3-faf5d5ec7cb4",
   "metadata": {},
   "outputs": [],
   "source": [
    "\n",
    "#write a user defined function to Greet with \"Good morning\" with your name and call the function with your name\n",
    "\n",
    "def greet():\n",
    "    "
   ]
  },
  {
   "cell_type": "code",
   "execution_count": 1,
   "id": "6ac7de1c-8dac-4dcd-8627-7b7f586e6949",
   "metadata": {},
   "outputs": [],
   "source": [
    "def avg_value(*n):\n",
    "    l = len(n)\n",
    "    average = sum(n)/l\n",
    "    return average"
   ]
  },
  {
   "cell_type": "code",
   "execution_count": 3,
   "id": "e6cca40d-cb39-41ef-af79-894a2d6c4b3a",
   "metadata": {},
   "outputs": [
    {
     "data": {
      "text/plain": [
       "348.3333333333333"
      ]
     },
     "execution_count": 3,
     "metadata": {},
     "output_type": "execute_result"
    }
   ],
   "source": [
    "avg_value(10,20,60,100,900,1000)"
   ]
  },
  {
   "cell_type": "code",
   "execution_count": 5,
   "id": "4f555aaf-576f-4798-a9d2-a18dbb4a136d",
   "metadata": {},
   "outputs": [
    {
     "name": "stdout",
     "output_type": "stream",
     "text": [
      "Good Morning Bheemesh!\n"
     ]
    }
   ],
   "source": [
    "greet = lambda name : print(f\"Good Morning {name}!\")\n",
    "greet(\"Bheemesh\")"
   ]
  },
  {
   "cell_type": "code",
   "execution_count": 6,
   "id": "318f12e9-b5a1-409e-a550-b78f73bf9a90",
   "metadata": {},
   "outputs": [
    {
     "data": {
      "text/plain": [
       "24000"
      ]
     },
     "execution_count": 6,
     "metadata": {},
     "output_type": "execute_result"
    }
   ],
   "source": [
    "### write a lambda function to print the product of three numbers\n",
    "product = lambda a,b,c : a*b*c\n",
    "product(20,30,40)"
   ]
  },
  {
   "cell_type": "code",
   "execution_count": 8,
   "id": "3c9becee-f4c2-4ab3-a2f3-0d1e1984e654",
   "metadata": {},
   "outputs": [
    {
     "data": {
      "text/plain": [
       "[100, 38, 56, 20]"
      ]
     },
     "execution_count": 8,
     "metadata": {},
     "output_type": "execute_result"
    }
   ],
   "source": [
    "# Lambda functions with list comprehension\n",
    "my_list = [100,3,9,38,43,56,20]\n",
    "even = lambda L : [x for x in L if x%2 == 0]\n",
    "even(my_list)"
   ]
  },
  {
   "cell_type": "code",
   "execution_count": null,
   "id": "ac8fc7bf-372b-4971-80b1-51aac82cf42f",
   "metadata": {},
   "outputs": [],
   "source": []
  }
 ],
 "metadata": {
  "kernelspec": {
   "display_name": "Python 3 (ipykernel)",
   "language": "python",
   "name": "python3"
  },
  "language_info": {
   "codemirror_mode": {
    "name": "ipython",
    "version": 3
   },
   "file_extension": ".py",
   "mimetype": "text/x-python",
   "name": "python",
   "nbconvert_exporter": "python",
   "pygments_lexer": "ipython3",
   "version": "3.12.7"
  }
 },
 "nbformat": 4,
 "nbformat_minor": 5
}
